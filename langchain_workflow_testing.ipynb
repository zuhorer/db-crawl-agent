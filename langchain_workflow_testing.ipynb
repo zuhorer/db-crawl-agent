{
 "cells": [
  {
   "cell_type": "code",
   "execution_count": null,
   "id": "a4ed1607",
   "metadata": {},
   "outputs": [
    {
     "name": "stdout",
     "output_type": "stream",
     "text": [
      "OPENAI_API_KEY set: True\n"
     ]
    }
   ],
   "source": [
    "\n",
    "import os\n",
    "\n",
    "# Option A: already set in your shell\n",
    "# os.environ['OPENAI_API_KEY']\n",
    "\n",
    "# Option B: set here for this notebook session\n",
    "os.environ['OPENAI_API_KEY'] = \"put open ai key here\"\n",
    "\n",
    "print(\"OPENAI_API_KEY set:\", bool(os.getenv(\"OPENAI_API_KEY\")))\n"
   ]
  },
  {
   "cell_type": "code",
   "execution_count": 3,
   "id": "6e8a4ea8",
   "metadata": {},
   "outputs": [
    {
     "name": "stdout",
     "output_type": "stream",
     "text": [
      "Requirement already satisfied: langgraph in ./venv/lib/python3.11/site-packages (0.6.7)\n",
      "Requirement already satisfied: langchain-core>=0.1 in ./venv/lib/python3.11/site-packages (from langgraph) (0.3.76)\n",
      "Requirement already satisfied: langgraph-checkpoint<3.0.0,>=2.1.0 in ./venv/lib/python3.11/site-packages (from langgraph) (2.1.1)\n",
      "Requirement already satisfied: langgraph-prebuilt<0.7.0,>=0.6.0 in ./venv/lib/python3.11/site-packages (from langgraph) (0.6.4)\n",
      "Requirement already satisfied: langgraph-sdk<0.3.0,>=0.2.2 in ./venv/lib/python3.11/site-packages (from langgraph) (0.2.8)\n",
      "Requirement already satisfied: pydantic>=2.7.4 in ./venv/lib/python3.11/site-packages (from langgraph) (2.11.9)\n",
      "Requirement already satisfied: xxhash>=3.5.0 in ./venv/lib/python3.11/site-packages (from langgraph) (3.5.0)\n",
      "Requirement already satisfied: langsmith>=0.3.45 in ./venv/lib/python3.11/site-packages (from langchain-core>=0.1->langgraph) (0.4.27)\n",
      "Requirement already satisfied: tenacity!=8.4.0,<10.0.0,>=8.1.0 in ./venv/lib/python3.11/site-packages (from langchain-core>=0.1->langgraph) (9.1.2)\n",
      "Requirement already satisfied: jsonpatch<2.0,>=1.33 in ./venv/lib/python3.11/site-packages (from langchain-core>=0.1->langgraph) (1.33)\n",
      "Requirement already satisfied: PyYAML>=5.3 in ./venv/lib/python3.11/site-packages (from langchain-core>=0.1->langgraph) (6.0.2)\n",
      "Requirement already satisfied: typing-extensions>=4.7 in ./venv/lib/python3.11/site-packages (from langchain-core>=0.1->langgraph) (4.15.0)\n",
      "Requirement already satisfied: packaging>=23.2 in ./venv/lib/python3.11/site-packages (from langchain-core>=0.1->langgraph) (25.0)\n",
      "Requirement already satisfied: ormsgpack>=1.10.0 in ./venv/lib/python3.11/site-packages (from langgraph-checkpoint<3.0.0,>=2.1.0->langgraph) (1.10.0)\n",
      "Requirement already satisfied: httpx>=0.25.2 in ./venv/lib/python3.11/site-packages (from langgraph-sdk<0.3.0,>=0.2.2->langgraph) (0.28.1)\n",
      "Requirement already satisfied: orjson>=3.10.1 in ./venv/lib/python3.11/site-packages (from langgraph-sdk<0.3.0,>=0.2.2->langgraph) (3.11.3)\n",
      "Requirement already satisfied: annotated-types>=0.6.0 in ./venv/lib/python3.11/site-packages (from pydantic>=2.7.4->langgraph) (0.7.0)\n",
      "Requirement already satisfied: pydantic-core==2.33.2 in ./venv/lib/python3.11/site-packages (from pydantic>=2.7.4->langgraph) (2.33.2)\n",
      "Requirement already satisfied: typing-inspection>=0.4.0 in ./venv/lib/python3.11/site-packages (from pydantic>=2.7.4->langgraph) (0.4.1)\n",
      "Requirement already satisfied: anyio in ./venv/lib/python3.11/site-packages (from httpx>=0.25.2->langgraph-sdk<0.3.0,>=0.2.2->langgraph) (4.10.0)\n",
      "Requirement already satisfied: certifi in ./venv/lib/python3.11/site-packages (from httpx>=0.25.2->langgraph-sdk<0.3.0,>=0.2.2->langgraph) (2025.8.3)\n",
      "Requirement already satisfied: httpcore==1.* in ./venv/lib/python3.11/site-packages (from httpx>=0.25.2->langgraph-sdk<0.3.0,>=0.2.2->langgraph) (1.0.9)\n",
      "Requirement already satisfied: idna in ./venv/lib/python3.11/site-packages (from httpx>=0.25.2->langgraph-sdk<0.3.0,>=0.2.2->langgraph) (3.10)\n",
      "Requirement already satisfied: h11>=0.16 in ./venv/lib/python3.11/site-packages (from httpcore==1.*->httpx>=0.25.2->langgraph-sdk<0.3.0,>=0.2.2->langgraph) (0.16.0)\n",
      "Requirement already satisfied: jsonpointer>=1.9 in ./venv/lib/python3.11/site-packages (from jsonpatch<2.0,>=1.33->langchain-core>=0.1->langgraph) (3.0.0)\n",
      "Requirement already satisfied: requests-toolbelt>=1.0.0 in ./venv/lib/python3.11/site-packages (from langsmith>=0.3.45->langchain-core>=0.1->langgraph) (1.0.0)\n",
      "Requirement already satisfied: requests>=2.0.0 in ./venv/lib/python3.11/site-packages (from langsmith>=0.3.45->langchain-core>=0.1->langgraph) (2.32.5)\n",
      "Requirement already satisfied: zstandard>=0.23.0 in ./venv/lib/python3.11/site-packages (from langsmith>=0.3.45->langchain-core>=0.1->langgraph) (0.24.0)\n",
      "Requirement already satisfied: charset_normalizer<4,>=2 in ./venv/lib/python3.11/site-packages (from requests>=2.0.0->langsmith>=0.3.45->langchain-core>=0.1->langgraph) (3.4.3)\n",
      "Requirement already satisfied: urllib3<3,>=1.21.1 in ./venv/lib/python3.11/site-packages (from requests>=2.0.0->langsmith>=0.3.45->langchain-core>=0.1->langgraph) (2.5.0)\n",
      "Requirement already satisfied: sniffio>=1.1 in ./venv/lib/python3.11/site-packages (from anyio->httpx>=0.25.2->langgraph-sdk<0.3.0,>=0.2.2->langgraph) (1.3.1)\n",
      "\n",
      "\u001b[1m[\u001b[0m\u001b[34;49mnotice\u001b[0m\u001b[1;39;49m]\u001b[0m\u001b[39;49m A new release of pip is available: \u001b[0m\u001b[31;49m24.0\u001b[0m\u001b[39;49m -> \u001b[0m\u001b[32;49m25.2\u001b[0m\n",
      "\u001b[1m[\u001b[0m\u001b[34;49mnotice\u001b[0m\u001b[1;39;49m]\u001b[0m\u001b[39;49m To update, run: \u001b[0m\u001b[32;49mpip install --upgrade pip\u001b[0m\n"
     ]
    }
   ],
   "source": [
    "!pip install langgraph"
   ]
  },
  {
   "cell_type": "code",
   "execution_count": 6,
   "id": "d09fda45",
   "metadata": {},
   "outputs": [
    {
     "name": "stdout",
     "output_type": "stream",
     "text": [
      "\n",
      "FINAL ANSWER:\n",
      " content='' additional_kwargs={} response_metadata={} id='f7723e7b-4c29-4563-939d-4efabc0228ce' tool_calls=[{'name': 'get_weather', 'args': {'city': 'Bengaluru'}, 'id': 'call_a7zGrRVXviqCEKZI2NoWYYNS', 'type': 'tool_call'}]\n"
     ]
    }
   ],
   "source": [
    "from typing import Literal\n",
    "from langchain_core.messages import HumanMessage, AIMessage\n",
    "from langchain_core.tools import tool\n",
    "from langgraph.graph import StateGraph, START, END, MessagesState\n",
    "from langgraph.prebuilt import ToolNode\n",
    "\n",
    "from db_crawl_agents.llms.openai_integration.chat_openai import OpenAIChat\n",
    "from db_crawl_agents.utils.runnable_chat_model import RunnableChatModel\n",
    "\n",
    "# Define a tool\n",
    "@tool\n",
    "def get_weather(city: str) -> str:\n",
    "    \"\"\"Return a mock weather string for a city.\"\"\"\n",
    "    return f\"It is 29°C and partly cloudy in {city}.\"\n",
    "\n",
    "TOOLS = [get_weather]\n",
    "\n",
    "# Provider-native tool schema (for OpenAI)\n",
    "OPENAI_TOOLS = [{\n",
    "    \"type\": \"function\",\n",
    "    \"function\": {\n",
    "        \"name\": \"get_weather\",\n",
    "        \"description\": \"Get current weather for a city (mock).\",\n",
    "        \"parameters\": {\n",
    "            \"type\": \"object\",\n",
    "            \"properties\": {\"city\": {\"type\":\"string\"}},\n",
    "            \"required\": [\"city\"],\n",
    "            \"additionalProperties\": False\n",
    "        },\n",
    "    },\n",
    "}]\n",
    "\n",
    "# Build the Runnable wrapping your ChatModel\n",
    "base = OpenAIChat(model=\"gpt-4o\")\n",
    "llm = RunnableChatModel(base).bind_tools(OPENAI_TOOLS, tool_choice=\"auto\")\n",
    "\n",
    "# Graph nodes definition\n",
    "def call_model(state: MessagesState):\n",
    "    ai = llm.invoke(state[\"messages\"])\n",
    "    return {\"messages\": [ai]}\n",
    "\n",
    "def should_continue(state: MessagesState) -> Literal[\"tools\", \"__end__\"]:\n",
    "    last = state[\"messages\"][-1]\n",
    "    if isinstance(last, AIMessage):\n",
    "        tcs = (last.additional_kwargs or {}).get(\"tool_calls\", [])\n",
    "        if tcs:\n",
    "            return \"tools\"\n",
    "    return END\n",
    "\n",
    "tool_node = ToolNode(TOOLS)\n",
    "\n",
    "graph = StateGraph(MessagesState)\n",
    "graph.add_node(\"model\", call_model)\n",
    "graph.add_node(\"tools\", tool_node)\n",
    "\n",
    "graph.add_edge(START, \"model\")\n",
    "graph.add_conditional_edges(\"model\", should_continue, {\"tools\": \"tools\", END: END})\n",
    "graph.add_edge(\"tools\", \"model\")\n",
    "\n",
    "app = graph.compile()\n",
    "\n",
    "\n",
    "# for chunk in app.stream(\n",
    "#     {\"messages\": [HumanMessage(content=\"What's the weather in Bengaluru?\")]},   # pass as positional\n",
    "#     stream_mode=\"debug\",\n",
    "# ):\n",
    "#     print( chunk)\n",
    "# Run the graph\n",
    "out = app.invoke({\"messages\": [HumanMessage(content=\"What's the weather in Bengaluru?\")]})\n",
    "final_ai = [m for m in out[\"messages\"] if isinstance(m, AIMessage)][-1]\n",
    "print(\"\\nFINAL ANSWER:\\n\", final_ai)"
   ]
  }
 ],
 "metadata": {
  "kernelspec": {
   "display_name": "venv",
   "language": "python",
   "name": "python3"
  },
  "language_info": {
   "codemirror_mode": {
    "name": "ipython",
    "version": 3
   },
   "file_extension": ".py",
   "mimetype": "text/x-python",
   "name": "python",
   "nbconvert_exporter": "python",
   "pygments_lexer": "ipython3",
   "version": "3.11.8"
  }
 },
 "nbformat": 4,
 "nbformat_minor": 5
}
